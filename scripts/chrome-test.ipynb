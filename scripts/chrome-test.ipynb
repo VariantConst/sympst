{
 "cells": [
  {
   "cell_type": "code",
   "execution_count": 2,
   "metadata": {},
   "outputs": [
    {
     "name": "stderr",
     "output_type": "stream",
     "text": [
      "100%|██████████| 841/841 [09:10<00:00,  1.53it/s]\n"
     ]
    }
   ],
   "source": [
    "from selenium import webdriver\n",
    "from selenium.webdriver.chrome.options import Options\n",
    "from selenium.webdriver.common.by import By\n",
    "from selenium.webdriver.support.ui import WebDriverWait\n",
    "from selenium.webdriver.support import expected_conditions as EC\n",
    "from selenium.webdriver.common.action_chains import ActionChains\n",
    "import time\n",
    "from tqdm import tqdm\n",
    "\n",
    "WINDOW_SIZE = \"1920,1080\"\n",
    "\n",
    "# Options\n",
    "chrome_options = Options()\n",
    "chrome_options.add_argument(\"--headless\")\n",
    "chrome_options.add_argument(\"--window-size=%s\" % WINDOW_SIZE)\n",
    "chrome_options.add_argument('--no-sandbox')\n",
    "driver = webdriver.Chrome(options=chrome_options)\n",
    "\n",
    "driver.get(\"https://typst.app/docs/reference/symbols/sym/\")\n",
    "time.sleep(2)\n",
    "\n",
    "symbol_grid = driver.find_element(By.CLASS_NAME, \"symbol-grid\")\n",
    "\n",
    "list_items = symbol_grid.find_elements(By.TAG_NAME, 'li')\n",
    "\n",
    "csv_file = open(\"symbols.csv\", \"w\")\n",
    "\n",
    "with open(\"symbols.csv\", \"w\") as csv_file:\n",
    "    csv_file.write(\"unic-name, sym, sym-name, unic-name, typ-scape, variants\\n\")\n",
    "    for item in tqdm(list_items):\n",
    "        ActionChains(driver).move_to_element_with_offset(driver.find_element(By.TAG_NAME, \"body\"), 0, 0).click().perform()\n",
    "\n",
    "        buttons = item.find_elements(By.TAG_NAME, 'button')\n",
    "        if buttons:\n",
    "            WebDriverWait(driver, 10).until(EC.element_to_be_clickable(buttons[0]))\n",
    "            driver.execute_script(\"arguments[0].scrollIntoView(true);\", buttons[0])\n",
    "            ActionChains(driver).move_to_element(buttons[0]).click().perform()\n",
    "\n",
    "            try:\n",
    "                flyout = WebDriverWait(driver, 10).until(\n",
    "                    EC.presence_of_element_located((By.CLASS_NAME, \"symbol-flyout\"))\n",
    "                )\n",
    "            except:\n",
    "                flyout = WebDriverWait(driver, 10).until(\n",
    "                    EC.presence_of_element_located((By.CLASS_NAME, \"symbol-flyout.override\"))\n",
    "                )\n",
    "            \n",
    "            info = flyout.find_element(By.CLASS_NAME, \"info\")\n",
    "            variants_box = flyout.find_element(By.CLASS_NAME, \"variants-box\")\n",
    "\n",
    "            unic_name = info.find_element(By.CLASS_NAME, \"unic-name\").text\n",
    "            sym = item.find_element(By.CLASS_NAME, \"sym\").text\n",
    "            sym_name = info.find_element(By.CLASS_NAME, \"sym-name\").text.split(' ')[-1]\n",
    "            typ_escape = info.find_element(By.CLASS_NAME, \"typ-escape\").text\n",
    "            variants = variants_box.text if variants_box.is_displayed() else \"\"\n",
    "            if variants:\n",
    "                variants = variants.replace(\"\\n\", \" \")\n",
    "                variants = variants[variants.find(\"Variants\") + len(\"Variants\") + 1:]\n",
    "\n",
    "            csv_file.write(', '.join([unic_name, sym, sym_name, unic_name, typ_escape, variants]) + \"\\n\")\n",
    "\n",
    "    driver.quit()"
   ]
  },
  {
   "cell_type": "code",
   "execution_count": 39,
   "metadata": {},
   "outputs": [
    {
     "data": {
      "image/png": "[encoded data removed]",
      "text/plain": [
       "<Figure size 600x600 with 1 Axes>"
      ]
     },
     "metadata": {},
     "output_type": "display_data"
    }
   ],
   "source": [
    "import matplotlib.pyplot as plt\n",
    "\n",
    "# Given Unicode escape code, for example \"\\u2600\" which represents the sun\n",
    "unicode_escape_code = \"\\u2021\"\n",
    "\n",
    "# Create a figure to display the symbol\n",
    "plt.figure(figsize=(6, 6))\n",
    "plt.text(0.5, 0.5, unicode_escape_code, fontsize=50, ha='center', va='center')\n",
    "plt.axis('off') # Turn off axis\n",
    "plt.show()\n"
   ]
  }
 ],
 "metadata": {
  "kernelspec": {
   "display_name": "Python 3",
   "language": "python",
   "name": "python3"
  },
  "language_info": {
   "codemirror_mode": {
    "name": "ipython",
    "version": 3
   },
   "file_extension": ".py",
   "mimetype": "text/x-python",
   "name": "python",
   "nbconvert_exporter": "python",
   "pygments_lexer": "ipython3",
   "version": "3.11.6"
  }
 },
 "nbformat": 4,
 "nbformat_minor": 2
}
